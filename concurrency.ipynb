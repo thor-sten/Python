{
 "cells": [
  {
   "cell_type": "markdown",
   "metadata": {},
   "source": [
    "# Concurrency"
   ]
  },
  {
   "cell_type": "code",
   "execution_count": 12,
   "metadata": {},
   "outputs": [],
   "source": [
    "import time\n",
    "import pandas as pd\n",
    "import requests # make HTTP requests"
   ]
  },
  {
   "cell_type": "code",
   "execution_count": 13,
   "metadata": {},
   "outputs": [],
   "source": [
    "# Create url list for IO-bound task\n",
    "def webcrawl(url):\n",
    "    header = {\n",
    "        \"User-Agent\": \"Mozilla/5.0 (X11; Linux x86_64) AppleWebKit/537.36 (KHTML, like Gecko)\\\n",
    "        Chrome/50.0.2661.75 Safari/537.36\", \"X-Requested-With\": \"XMLHttpRequest\"\n",
    "    }\n",
    "    req = requests.get(url, headers=header)\n",
    "    \n",
    "    return pd.read_html(req.text)[0]\n",
    "\n",
    "sites = webcrawl('https://moz.com/top500')\n",
    "\n",
    "toplist = []\n",
    "# select 50 random websites from list\n",
    "for url in sites['Root Domain'].iloc[0:50]: #sample(n=50):\n",
    "    toplist.append('http://' + url)\n",
    "\n",
    "    \n",
    "# CPO-bound task\n",
    "def cpu_task(number):\n",
    "    return sum(i * i for i in range(number))\n",
    "\n",
    "numbers = [5_000_000 + x for x in range(20)]"
   ]
  },
  {
   "cell_type": "markdown",
   "metadata": {},
   "source": [
    "## Synchronous (standard)"
   ]
  },
  {
   "cell_type": "markdown",
   "metadata": {},
   "source": [
    "### IO-bound"
   ]
  },
  {
   "cell_type": "code",
   "execution_count": 29,
   "metadata": {
    "scrolled": true
   },
   "outputs": [
    {
     "name": "stdout",
     "output_type": "stream",
     "text": [
      "Read 163940 characters from http://microsoft.com\n",
      "Read 12763 characters from http://www.google.com\n",
      "Read 60157 characters from http://apple.com\n",
      "Read 63669 characters from http://docs.google.com\n",
      "Read 1140934 characters from http://play.google.com\n",
      "Read 413847 characters from http://support.google.com\n",
      "Read 94478 characters from http://www.blogger.com\n",
      "Read 459659 characters from http://youtube.com\n",
      "Read 63879 characters from http://sites.google.com\n",
      "Read 63769 characters from http://plus.google.com\n",
      "Read 108598 characters from http://adobe.com\n",
      "Read 167511 characters from http://mozilla.org\n",
      "Read 75672 characters from http://en.wikipedia.org\n",
      "Read 63748 characters from http://accounts.google.com\n",
      "Read 37649 characters from http://wordpress.org\n",
      "HTTPConnectionPool(host='googleusercontent.com', port=80): Max retries exceeded with url: / (Caused by NewConnectionError('<urllib3.connection.HTTPConnection object at 0x000001E53E080388>: Failed to establish a new connection: [Errno 11001] getaddrinfo failed'))\n",
      "Read 406445 characters from http://youtu.be\n",
      "Read 104372 characters from http://creativecommons.org\n",
      "Read 87936 characters from http://github.com\n",
      "Read 72040 characters from http://linkedin.com\n",
      "Read 44534 characters from http://maps.google.com\n",
      "Read 32670 characters from http://vimeo.com\n",
      "Read 64159 characters from http://drive.google.com\n",
      "Read 4472 characters from http://live.com\n",
      "Read 327787 characters from http://uol.com.br\n",
      "Read 136334 characters from http://cloudflare.com\n",
      "Read 6400 characters from http://amazon.com\n",
      "Read 309144 characters from http://bbc.co.uk\n",
      "Read 10484 characters from http://vk.com\n",
      "Read 126416 characters from http://dailymotion.com\n",
      "Read 39810 characters from http://istockphoto.com\n",
      "HTTPConnectionPool(host='bp.blogspot.com', port=80): Max retries exceeded with url: / (Caused by NewConnectionError('<urllib3.connection.HTTPConnection object at 0x000001E53E1417C8>: Failed to establish a new connection: [Errno 11001] getaddrinfo failed'))\n",
      "Read 11600 characters from http://europa.eu\n",
      "Read 61236 characters from http://feedburner.com\n",
      "Read 396339 characters from http://cnet.com\n",
      "Read 142540 characters from http://pt.wikipedia.org\n",
      "Read 152466 characters from http://medium.com\n",
      "Read 2462437 characters from http://news.google.com\n",
      "Read 134796 characters from http://fr.wikipedia.org\n",
      "Read 197651 characters from http://reuters.com\n",
      "Read 119569 characters from http://facebook.com\n",
      "Read 241484 characters from http://myspace.com\n",
      "Read 13526 characters from http://google.co.jp\n",
      "Read 825444 characters from http://theguardian.com\n",
      "Read 351259 characters from http://amazon.co.jp\n",
      "Read 59663 characters from http://networkadvertising.org\n",
      "Read 13335 characters from http://google.co.uk\n",
      "Read 7425 characters from http://wikimedia.org\n",
      "Read 68843 characters from http://mail.google.com\n",
      "Read 82685 characters from http://whatsapp.com\n",
      "\n",
      "Downloaded 50 sites in 28.675 seconds\n"
     ]
    }
   ],
   "source": [
    "def download_site(url, session):\n",
    "    try:\n",
    "        with session.get(url) as response:\n",
    "            print(f\"Read {len(response.content)} characters from {url}\")\n",
    "            \n",
    "            return response\n",
    "        \n",
    "    except Exception as e:\n",
    "        print(e)\n",
    "\n",
    "def download_all_sites(sites):\n",
    "    site_responses = []\n",
    "    with requests.Session() as session:\n",
    "        for url in sites:\n",
    "            site_responses.append(download_site(url, session))\n",
    "    \n",
    "    return site_responses\n",
    "\n",
    "\n",
    "# Standard IO-bound task\n",
    "start_time = time.time()\n",
    "site_content = download_all_sites(toplist)\n",
    "\n",
    "duration_s1 = round(time.time() - start_time, 3)\n",
    "print(f\"\\nDownloaded {len(toplist)} sites in {duration_s1} seconds\")"
   ]
  },
  {
   "cell_type": "code",
   "execution_count": 31,
   "metadata": {
    "scrolled": true
   },
   "outputs": [
    {
     "data": {
      "text/plain": [
       "b'<!DOCTYPE html>\\n<!--[if lt IE 7]> <html lang=\"en-us\" class=\"a-no-js a-lt-ie9 a-lt-ie8 a-lt-ie7\"> <![endif]-->\\n<!--[if IE 7]>    <html lang=\"en-us\" class=\"a-no-js a-lt-ie9 a-lt-ie8\"> <![endif]-->\\n<!--[if IE 8]>    <html lang=\"en-us\" class=\"a-no-js a-lt-ie9\"> <![endif]-->\\n<!--[if gt IE 8]><!-->\\n<html class=\"a-no-js\" lang=\"en-us\"><!--<![endif]--><head>\\n<meta http-equiv=\"content-type\" content=\"text/html; charset=UTF-8\">\\n<meta charset=\"utf-8\">\\n<meta http-equiv=\"X-UA-Compatible\" content=\"IE=edge,chrome=1\">\\n<title dir=\"ltr\">Robot Check</title>\\n<meta name=\"viewport\" content=\"width=device-width\">\\n<link rel=\"stylesheet\" href=\"https://images-na.ssl-images-amazon.com/images/G/01/AUIClients/AmazonUI-3c913031596ca78a3768f4e934b1cc02ce238101.secure.min._V1_.css\">\\n<script>\\n\\nif (true === true) {\\n    var ue_t0 = (+ new Date()),\\n        ue_csm = window,\\n        ue = { t0: ue_t0, d: function() { return (+new Date() - ue_t0); } },\\n        ue_furl = \"fls-na.amazon.com\",\\n        ue_mid = \"ATVPDKIKX0DER\",\\n        ue_sid = (document.cookie.match(/session-id=([0-9-]+)/) || [])[1],\\n        ue_sn = \"opfcaptcha.amazon.com\",\\n        ue_id = \\'5BEV0PTHJK52HTVSWH75\\';\\n}\\n</script>\\n</head>\\n<body>\\n\\n<!--\\n        To discuss automated access to Amazon data please contact api-services-support@amazon.com.\\n        For information about migrating to our APIs refer to our Marketplace APIs at https://developer.amazonservices.com/ref=rm_c_sv, or our Product Advertising API at https://affiliate-program.amazon.com/gp/advertising/api/detail/main.html/ref=rm_c_ac for advertising use cases.\\n-->\\n\\n<!--\\nCorreios.DoNotSend\\n-->\\n\\n<div class=\"a-container a-padding-double-large\" style=\"min-width:350px;padding:44px 0 !important\">\\n\\n    <div class=\"a-row a-spacing-double-large\" style=\"width: 350px; margin: 0 auto\">\\n\\n        <div class=\"a-row a-spacing-medium a-text-center\"><i class=\"a-icon a-logo\"></i></div>\\n\\n        <div class=\"a-box a-alert a-alert-info a-spacing-base\">\\n            <div class=\"a-box-inner\">\\n                <i class=\"a-icon a-icon-alert\"></i>\\n                <h4>Enter the characters you see below</h4>\\n                <p class=\"a-last\">Sorry, we just need to make sure you\\'re not a robot. For best results, please make sure your browser is accepting cookies.</p>\\n                </div>\\n            </div>\\n\\n            <div class=\"a-section\">\\n\\n                <div class=\"a-box a-color-offset-background\">\\n                    <div class=\"a-box-inner a-padding-extra-large\">\\n\\n                        <form method=\"get\" action=\"/errors/validateCaptcha\" name=\"\">\\n                            <input type=hidden name=\"amzn\" value=\"Ns692HUJV64tzjaEXIdnKQ==\" /><input type=hidden name=\"amzn-r\" value=\"&#047;\" />\\n                            <div class=\"a-row a-spacing-large\">\\n                                <div class=\"a-box\">\\n                                    <div class=\"a-box-inner\">\\n                                        <h4>Type the characters you see in this image:</h4>\\n                                        <div class=\"a-row a-text-center\">\\n                                            <img src=\"https://images-na.ssl-images-amazon.com/captcha/ahkfsmoa/Captcha_obcbxvnugq.jpg\">\\n                                        </div>\\n                                        <div class=\"a-row a-spacing-base\">\\n                                            <div class=\"a-row\">\\n                                                <div class=\"a-column a-span6\">\\n                                                </div>\\n                                                <div class=\"a-column a-span6 a-span-last a-text-right\">\\n                                                    <a onclick=\"window.location.reload()\">Try different image</a>\\n                                                </div>\\n                                            </div>\\n                                            <input autocomplete=\"off\" spellcheck=\"false\" placeholder=\"Type characters\" id=\"captchacharacters\" name=\"field-keywords\" class=\"a-span12\" autocapitalize=\"off\" autocorrect=\"off\" type=\"text\">\\n                                        </div>\\n                                    </div>\\n                                </div>\\n                            </div>\\n\\n                            <div class=\"a-section a-spacing-extra-large\">\\n\\n                                <div class=\"a-row\">\\n                                    <span class=\"a-button a-button-primary a-span12\">\\n                                        <span class=\"a-button-inner\">\\n                                            <button type=\"submit\" class=\"a-button-text\">Continue shopping</button>\\n                                        </span>\\n                                    </span>\\n                                </div>\\n\\n                            </div>\\n                        </form>\\n\\n                    </div>\\n                </div>\\n\\n            </div>\\n\\n        </div>\\n\\n        <div class=\"a-divider a-divider-section\"><div class=\"a-divider-inner\"></div></div>\\n\\n        <div class=\"a-text-center a-spacing-small a-size-mini\">\\n            <a href=\"https://www.amazon.com/gp/help/customer/display.html/ref=footer_cou?ie=UTF8&nodeId=508088\">Conditions of Use</a>\\n            <span class=\"a-letter-space\"></span>\\n            <span class=\"a-letter-space\"></span>\\n            <span class=\"a-letter-space\"></span>\\n            <span class=\"a-letter-space\"></span>\\n            <a href=\"https://www.amazon.com/gp/help/customer/display.html/ref=footer_privacy?ie=UTF8&nodeId=468496\">Privacy Policy</a>\\n        </div>\\n        <div class=\"a-text-center a-size-mini a-color-secondary\">\\n          &copy; 1996-2014, Amazon.com, Inc. or its affiliates\\n          <script>\\n           if (true === true) {\\n             document.write(\\'<img src=\"https://fls-na.amaz\\'+\\'on.com/\\'+\\'1/oc-csi/1/OP/requestId=5BEV0PTHJK52HTVSWH75&js=1\" />\\');\\n           };\\n          </script>\\n          <noscript>\\n            <img src=\"https://fls-na.amazon.com/1/oc-csi/1/OP/requestId=5BEV0PTHJK52HTVSWH75&js=0\" />\\n          </noscript>\\n        </div>\\n    </div>\\n    <script>\\n    if (true === true) {\\n        var elem = document.createElement(\"script\");\\n        elem.src = \"https://images-na.ssl-images-amazon.com/images/G/01/csminstrumentation/csm-captcha-instrumentation.min._V\" + (+ new Date()) + \"_.js\";\\n        document.getElementsByTagName(\\'head\\')[0].appendChild(elem);\\n    }\\n    </script>\\n</body></html>\\n'"
      ]
     },
     "execution_count": 31,
     "metadata": {},
     "output_type": "execute_result"
    }
   ],
   "source": [
    "site_content[26].content"
   ]
  },
  {
   "cell_type": "markdown",
   "metadata": {},
   "source": [
    "<img src=\"https://files.realpython.com/media/IOBound.4810a888b457.png\" width=500>"
   ]
  },
  {
   "cell_type": "markdown",
   "metadata": {},
   "source": [
    "### CPU-bound"
   ]
  },
  {
   "cell_type": "code",
   "execution_count": 17,
   "metadata": {},
   "outputs": [
    {
     "name": "stdout",
     "output_type": "stream",
     "text": [
      "Duration 12.111 seconds\n"
     ]
    }
   ],
   "source": [
    "# Standard CPU-bound task\n",
    "def find_sums(num):\n",
    "    for number in num:\n",
    "        cpu_task(number)\n",
    "\n",
    "start_time = time.time()\n",
    "find_sums(numbers)\n",
    "\n",
    "duration_s2 = round(time.time() - start_time, 3)\n",
    "print(f\"Duration {duration_s2} seconds\")"
   ]
  },
  {
   "cell_type": "markdown",
   "metadata": {},
   "source": [
    "## Threading"
   ]
  },
  {
   "cell_type": "markdown",
   "metadata": {},
   "source": [
    "###  IO-bound"
   ]
  },
  {
   "cell_type": "code",
   "execution_count": 18,
   "metadata": {
    "scrolled": true
   },
   "outputs": [
    {
     "name": "stdout",
     "output_type": "stream",
     "text": [
      "Read 12767 characters from http://www.google.com\n",
      "Read 413845 characters from http://support.google.com\n",
      "Read 60157 characters from http://apple.com\n",
      "Read 63738 characters from http://plus.google.com\n",
      "Read 163940 characters from http://microsoft.com\n",
      "Read 1140468 characters from http://play.google.com\n",
      "Read 63677 characters from http://docs.google.com\n",
      "Read 63864 characters from http://accounts.google.com\n",
      "Exception for http://googleusercontent.com: HTTPConnectionPool(host='googleusercontent.com', port=80): Max retries exceeded with url: / (Caused by NewConnectionError('<urllib3.connection.HTTPConnection object at 0x000001E538818C08>: Failed to establish a new connection: [Errno 11001] getaddrinfo failed'))\n",
      "Read 63882 characters from http://sites.google.com\n",
      "Read 107576 characters from http://adobe.com\n",
      "Read 75641 characters from http://en.wikipedia.org\n",
      "Read 104372 characters from http://creativecommons.org\n",
      "Read 368793 characters from http://youtube.com\n",
      "Read 44534 characters from http://maps.google.com\n",
      "Read 87936 characters from http://github.com\n",
      "Read 94478 characters from http://www.blogger.com\n",
      "Read 32670 characters from http://vimeo.com\n",
      "Read 37653 characters from http://wordpress.org\n",
      "Read 136334 characters from http://cloudflare.com\n",
      "Read 4472 characters from http://live.com\n",
      "Read 72040 characters from http://linkedin.com\n",
      "Exception for http://bp.blogspot.com: HTTPConnectionPool(host='bp.blogspot.com', port=80): Max retries exceeded with url: / (Caused by NewConnectionError('<urllib3.connection.HTTPConnection object at 0x000001E53CE53508>: Failed to establish a new connection: [Errno 11001] getaddrinfo failed'))\n",
      "Read 384547 characters from http://youtu.be\n",
      "Read 64203 characters from http://drive.google.com\n",
      "Read 309042 characters from http://bbc.co.uk\n",
      "Read 10483 characters from http://vk.com\n",
      "Read 167511 characters from http://mozilla.org\n",
      "Read 11600 characters from http://europa.eu\n",
      "Read 142540 characters from http://pt.wikipedia.org\n",
      "Read 126416 characters from http://dailymotion.com\n",
      "Read 332631 characters from http://uol.com.br\n",
      "Read 61289 characters from http://feedburner.com\n",
      "Read 13469 characters from http://google.co.jp\n",
      "Read 152409 characters from http://medium.com\n",
      "Read 134796 characters from http://fr.wikipedia.org\n",
      "Read 396667 characters from http://cnet.com\n",
      "Read 197674 characters from http://reuters.com\n",
      "Read 13345 characters from http://google.co.uk\n",
      "Read 119768 characters from http://facebook.com\n",
      "Read 2671 characters from http://amazon.com\n",
      "Read 825997 characters from http://theguardian.com\n",
      "Read 39810 characters from http://istockphoto.com\n",
      "Read 68803 characters from http://mail.google.com\n",
      "Read 7425 characters from http://wikimedia.org\n",
      "Read 2492678 characters from http://news.google.com\n",
      "Read 82685 characters from http://whatsapp.com\n",
      "Read 241472 characters from http://myspace.com\n",
      "Read 59663 characters from http://networkadvertising.org\n",
      "Read 351614 characters from http://amazon.co.jp\n",
      "\n",
      "Downloaded 50 sites in 4.986 seconds\n"
     ]
    }
   ],
   "source": [
    "import concurrent.futures as ccf\n",
    "import threading\n",
    "\n",
    "thread_local = threading.local()\n",
    "def get_session():\n",
    "    \"\"\"Local storage for each individual thread needed to make session thread-safe\"\"\"\n",
    "    if not hasattr(thread_local, \"session\"):\n",
    "        thread_local.session = requests.Session()\n",
    "    \n",
    "    return thread_local.session\n",
    "\n",
    "\n",
    "def download_site_thread(url):\n",
    "    \"\"\"Download urls\"\"\"\n",
    "    session = get_session()\n",
    "    try:\n",
    "        with session.get(url) as response: \n",
    "            print(f\"Read {len(response.content)} characters from {url}\")        \n",
    "            \n",
    "            return response\n",
    "        \n",
    "    except Exception as e:\n",
    "        print(f\"Exception for {url}: {e}\")\n",
    "        \n",
    "\n",
    "def download_all_sites_thread(sites):\n",
    "    \"\"\"Create a pool of threads and call function multiple times with map\"\"\"\n",
    "    with ccf.ThreadPoolExecutor(max_workers=10) as executor:\n",
    "        response = list(executor.map(download_site_thread, sites))\n",
    "    \n",
    "    return response\n",
    "\n",
    "\n",
    "# IO-bound task using threading\n",
    "start_time = time.time()\n",
    "\n",
    "site_content = []\n",
    "site_content.append(download_all_sites_thread(toplist))\n",
    "\n",
    "duration_t1 = round(time.time() - start_time, 3)\n",
    "print(f\"\\nDownloaded {len(toplist)} sites in {duration_t1} seconds\")"
   ]
  },
  {
   "cell_type": "markdown",
   "metadata": {},
   "source": [
    "<img src=\"https://files.realpython.com/media/Threading.3eef48da829e.png\" width=500>"
   ]
  },
  {
   "cell_type": "markdown",
   "metadata": {},
   "source": [
    "### CPU-bound"
   ]
  },
  {
   "cell_type": "code",
   "execution_count": 19,
   "metadata": {},
   "outputs": [
    {
     "name": "stdout",
     "output_type": "stream",
     "text": [
      "Duration 15.259 seconds\n"
     ]
    }
   ],
   "source": [
    "# CPU-bound task using threading\n",
    "def find_sums_thread(num):\n",
    "    with ccf.ThreadPoolExecutor(max_workers=5) as executor:\n",
    "        executor.map(cpu_task, num)\n",
    "\n",
    "start_time = time.time()\n",
    "find_sums_thread(numbers)\n",
    "\n",
    "duration_t2 = round(time.time() - start_time, 3)\n",
    "print(f\"Duration {duration_t2} seconds\")"
   ]
  },
  {
   "cell_type": "markdown",
   "metadata": {},
   "source": [
    "## Asyncio"
   ]
  },
  {
   "cell_type": "markdown",
   "metadata": {},
   "source": [
    "### IO-bound (problems in jupyter)"
   ]
  },
  {
   "cell_type": "code",
   "execution_count": 20,
   "metadata": {},
   "outputs": [
    {
     "name": "stdout",
     "output_type": "stream",
     "text": [
      "Downloaded 50 sites in 145.138 seconds\n"
     ]
    }
   ],
   "source": [
    "import asyncio\n",
    "import aiohttp\n",
    "\n",
    "\n",
    "async def download_site(session, url):\n",
    "    async with session.get(url) as response:\n",
    "        print(\"Read {0} from {1}\".format(response.content_length, url))\n",
    "\n",
    "\n",
    "async def download_all_sites_asyn(sites):\n",
    "    async with aiohttp.ClientSession() as session:\n",
    "        tasks = []\n",
    "        for url in sites:\n",
    "            task = asyncio.ensure_future(download_site(session, url))\n",
    "            tasks.append(task)\n",
    "        await asyncio.gather(*tasks, return_exceptions=True)\n",
    "\n",
    "\n",
    "# IO-bound task using asyncio\n",
    "#start_time = time.time()\n",
    "#asyncio.get_event_loop().run_until_complete(download_all_sites_asyn(toplist))\n",
    "\n",
    "duration = round(time.time() - start_time, 3)\n",
    "print(f\"Downloaded {len(toplist)} sites in {duration} seconds\")"
   ]
  },
  {
   "cell_type": "markdown",
   "metadata": {},
   "source": [
    "<img src=\"https://files.realpython.com/media/Asyncio.31182d3731cf.png\" width=500>"
   ]
  },
  {
   "cell_type": "markdown",
   "metadata": {},
   "source": [
    "## Multiprocessing"
   ]
  },
  {
   "cell_type": "code",
   "execution_count": 21,
   "metadata": {},
   "outputs": [
    {
     "name": "stdout",
     "output_type": "stream",
     "text": [
      "Downloaded 50 in 11.416 seconds\n"
     ]
    }
   ],
   "source": [
    "import multiprocessing\n",
    "import multiprocess_func as mpf\n",
    "\n",
    "# Content of multiprocess_func, saved in separate file\n",
    "# Multiprocess does not always work when objects are not defined in an imported module.\n",
    "session = None\n",
    "def set_global_session():\n",
    "    global session\n",
    "    if not session:\n",
    "        session = requests.Session()\n",
    "\n",
    "\n",
    "def download_site_multi(url):\n",
    "    try:\n",
    "        with requests.Session().get(url) as response:\n",
    "            name = multiprocessing.current_process().name\n",
    "            print(f\"{name}:Read {len(response.content)} characters from {url}\")\n",
    "    except Exception as e:\n",
    "        print(f\"Exception for {url}: {e}\")\n",
    "\n",
    "\n",
    "def download_all_sites_multi(sites):\n",
    "    # Determines number of cores and runs separate Python interpreter on each of them\n",
    "    with multiprocessing.Pool(initializer=set_global_session) as pool:\n",
    "    #with multiprocessing.Pool() as pool:\n",
    "        pool.map(download_site_multi, sites)\n",
    "\n",
    "        \n",
    "# IO-bound task using multiprocessing\n",
    "start_time = time.time()\n",
    "mpf.download_all_sites_multi(toplist)\n",
    "\n",
    "duration_m1 = round(time.time() - start_time, 3)\n",
    "print(f\"Downloaded {len(toplist)} in {duration_m1} seconds\")"
   ]
  },
  {
   "cell_type": "markdown",
   "metadata": {},
   "source": [
    "<img src=\"https://files.realpython.com/media/MProc.7cf3be371bbc.png\" width=500>"
   ]
  },
  {
   "cell_type": "code",
   "execution_count": 23,
   "metadata": {},
   "outputs": [
    {
     "name": "stdout",
     "output_type": "stream",
     "text": [
      "Duration 8.862 seconds\n"
     ]
    }
   ],
   "source": [
    "# CPU-bound task with multiprocessing\n",
    "start_time = time.time()\n",
    "mpf.find_sums_multi(numbers)\n",
    "\n",
    "duration_m2 = round(time.time() - start_time, 3)\n",
    "print(f\"Duration {duration_m2} seconds\")"
   ]
  },
  {
   "cell_type": "code",
   "execution_count": 24,
   "metadata": {},
   "outputs": [
    {
     "data": {
      "text/html": [
       "<div>\n",
       "<style scoped>\n",
       "    .dataframe tbody tr th:only-of-type {\n",
       "        vertical-align: middle;\n",
       "    }\n",
       "\n",
       "    .dataframe tbody tr th {\n",
       "        vertical-align: top;\n",
       "    }\n",
       "\n",
       "    .dataframe thead th {\n",
       "        text-align: right;\n",
       "    }\n",
       "</style>\n",
       "<table border=\"1\" class=\"dataframe\">\n",
       "  <thead>\n",
       "    <tr style=\"text-align: right;\">\n",
       "      <th></th>\n",
       "      <th>I/O</th>\n",
       "      <th>CPU</th>\n",
       "    </tr>\n",
       "  </thead>\n",
       "  <tbody>\n",
       "    <tr>\n",
       "      <th>Synchronous</th>\n",
       "      <td>31.381</td>\n",
       "      <td>12.111</td>\n",
       "    </tr>\n",
       "    <tr>\n",
       "      <th>Threading</th>\n",
       "      <td>4.986</td>\n",
       "      <td>15.259</td>\n",
       "    </tr>\n",
       "    <tr>\n",
       "      <th>Async IO</th>\n",
       "      <td>3.602</td>\n",
       "      <td>-</td>\n",
       "    </tr>\n",
       "    <tr>\n",
       "      <th>Multithread</th>\n",
       "      <td>11.416</td>\n",
       "      <td>8.862</td>\n",
       "    </tr>\n",
       "  </tbody>\n",
       "</table>\n",
       "</div>"
      ],
      "text/plain": [
       "                I/O     CPU\n",
       "Synchronous  31.381  12.111\n",
       "Threading     4.986  15.259\n",
       "Async IO      3.602       -\n",
       "Multithread  11.416   8.862"
      ]
     },
     "execution_count": 24,
     "metadata": {},
     "output_type": "execute_result"
    }
   ],
   "source": [
    "summary = pd.DataFrame(\n",
    "    {\"I/O\" : [duration_s1, duration_t1 ,3.602, duration_m1],\n",
    "     \"CPU\" : [duration_s2, duration_t2, \"-\", duration_m2]},\n",
    "    index = [\"Synchronous\", \"Threading\", \"Async IO\", \"Multithread\"])\n",
    "summary"
   ]
  }
 ],
 "metadata": {
  "kernelspec": {
   "display_name": "Python 3",
   "language": "python",
   "name": "python3"
  },
  "language_info": {
   "codemirror_mode": {
    "name": "ipython",
    "version": 3
   },
   "file_extension": ".py",
   "mimetype": "text/x-python",
   "name": "python",
   "nbconvert_exporter": "python",
   "pygments_lexer": "ipython3",
   "version": "3.7.4"
  }
 },
 "nbformat": 4,
 "nbformat_minor": 2
}
