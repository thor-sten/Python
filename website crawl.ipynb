{
 "cells": [
  {
   "cell_type": "code",
   "execution_count": 13,
   "metadata": {},
   "outputs": [],
   "source": [
    "import pandas as pd\n",
    "import matplotlib.pyplot as plt"
   ]
  },
  {
   "cell_type": "code",
   "execution_count": 48,
   "metadata": {},
   "outputs": [
    {
     "data": {
      "text/html": [
       "<div>\n",
       "<style scoped>\n",
       "    .dataframe tbody tr th:only-of-type {\n",
       "        vertical-align: middle;\n",
       "    }\n",
       "\n",
       "    .dataframe tbody tr th {\n",
       "        vertical-align: top;\n",
       "    }\n",
       "\n",
       "    .dataframe thead th {\n",
       "        text-align: right;\n",
       "    }\n",
       "</style>\n",
       "<table border=\"1\" class=\"dataframe\">\n",
       "  <thead>\n",
       "    <tr style=\"text-align: right;\">\n",
       "      <th></th>\n",
       "      <th>date (X)</th>\n",
       "      <th>$/Mbyte (Y)</th>\n",
       "      <th>Date</th>\n",
       "      <th>Unnamed: 3</th>\n",
       "      <th>Ref:</th>\n",
       "      <th>Page</th>\n",
       "      <th>Company</th>\n",
       "      <th>Size</th>\n",
       "      <th>Cost</th>\n",
       "      <th>Speed</th>\n",
       "      <th>Memory Type</th>\n",
       "      <th>JDR Chip Prices</th>\n",
       "      <th>Unnamed: 12</th>\n",
       "      <th>Unnamed: 13</th>\n",
       "    </tr>\n",
       "  </thead>\n",
       "  <tbody>\n",
       "    <tr>\n",
       "      <th>1</th>\n",
       "      <td>1957.0</td>\n",
       "      <td>411041792.0</td>\n",
       "      <td>1957.0</td>\n",
       "      <td>NaN</td>\n",
       "      <td>Phister 366</td>\n",
       "      <td>NaN</td>\n",
       "      <td>C.C.C.</td>\n",
       "      <td>0.00098</td>\n",
       "      <td>392.00</td>\n",
       "      <td>10000</td>\n",
       "      <td>transistor Flip-Flop</td>\n",
       "      <td>NaN</td>\n",
       "      <td>NaN</td>\n",
       "      <td>NaN</td>\n",
       "    </tr>\n",
       "    <tr>\n",
       "      <th>2</th>\n",
       "      <td>1959.0</td>\n",
       "      <td>67947725.0</td>\n",
       "      <td>1959.0</td>\n",
       "      <td>NaN</td>\n",
       "      <td>Phister 366</td>\n",
       "      <td>NaN</td>\n",
       "      <td>E.E.Co.</td>\n",
       "      <td>0.00098</td>\n",
       "      <td>64.80</td>\n",
       "      <td>10000</td>\n",
       "      <td>vacuum tube Flip-Flop</td>\n",
       "      <td>NaN</td>\n",
       "      <td>NaN</td>\n",
       "      <td>NaN</td>\n",
       "    </tr>\n",
       "    <tr>\n",
       "      <th>3</th>\n",
       "      <td>1960.0</td>\n",
       "      <td>5242880.0</td>\n",
       "      <td>1960.0</td>\n",
       "      <td>NaN</td>\n",
       "      <td>Phister 367</td>\n",
       "      <td>NaN</td>\n",
       "      <td>IBM</td>\n",
       "      <td>0.00098</td>\n",
       "      <td>5.00</td>\n",
       "      <td>11500</td>\n",
       "      <td>IBM 1401 core memory</td>\n",
       "      <td>NaN</td>\n",
       "      <td>NaN</td>\n",
       "      <td>NaN</td>\n",
       "    </tr>\n",
       "    <tr>\n",
       "      <th>4</th>\n",
       "      <td>1965.0</td>\n",
       "      <td>2642412.0</td>\n",
       "      <td>1965.0</td>\n",
       "      <td>NaN</td>\n",
       "      <td>Phister 367</td>\n",
       "      <td>NaN</td>\n",
       "      <td>IBM</td>\n",
       "      <td>0.00098</td>\n",
       "      <td>2.52</td>\n",
       "      <td>2000</td>\n",
       "      <td>IBM 360/30 core memory</td>\n",
       "      <td>NaN</td>\n",
       "      <td>NaN</td>\n",
       "      <td>NaN</td>\n",
       "    </tr>\n",
       "    <tr>\n",
       "      <th>5</th>\n",
       "      <td>1970.0</td>\n",
       "      <td>734003.0</td>\n",
       "      <td>1970.0</td>\n",
       "      <td>NaN</td>\n",
       "      <td>Phister 367</td>\n",
       "      <td>NaN</td>\n",
       "      <td>IBM</td>\n",
       "      <td>0.00098</td>\n",
       "      <td>0.70</td>\n",
       "      <td>770</td>\n",
       "      <td>IBM 370/135 core memory</td>\n",
       "      <td>NaN</td>\n",
       "      <td>NaN</td>\n",
       "      <td>NaN</td>\n",
       "    </tr>\n",
       "  </tbody>\n",
       "</table>\n",
       "</div>"
      ],
      "text/plain": [
       "   date (X)  $/Mbyte (Y)    Date Unnamed: 3         Ref:  Page  Company  \\\n",
       "1    1957.0  411041792.0  1957.0        NaN  Phister 366   NaN   C.C.C.   \n",
       "2    1959.0   67947725.0  1959.0        NaN  Phister 366   NaN  E.E.Co.   \n",
       "3    1960.0    5242880.0  1960.0        NaN  Phister 367   NaN      IBM   \n",
       "4    1965.0    2642412.0  1965.0        NaN  Phister 367   NaN      IBM   \n",
       "5    1970.0     734003.0  1970.0        NaN  Phister 367   NaN      IBM   \n",
       "\n",
       "      Size    Cost  Speed              Memory Type JDR Chip Prices  \\\n",
       "1  0.00098  392.00  10000     transistor Flip-Flop             NaN   \n",
       "2  0.00098   64.80  10000    vacuum tube Flip-Flop             NaN   \n",
       "3  0.00098    5.00  11500     IBM 1401 core memory             NaN   \n",
       "4  0.00098    2.52   2000   IBM 360/30 core memory             NaN   \n",
       "5  0.00098    0.70    770  IBM 370/135 core memory             NaN   \n",
       "\n",
       "  Unnamed: 12 Unnamed: 13  \n",
       "1         NaN         NaN  \n",
       "2         NaN         NaN  \n",
       "3         NaN         NaN  \n",
       "4         NaN         NaN  \n",
       "5         NaN         NaN  "
      ]
     },
     "execution_count": 48,
     "metadata": {},
     "output_type": "execute_result"
    }
   ],
   "source": [
    "table, = pd.read_html(\"https://jcmit.net/memoryprice.htm\", header=0) #parse_dates=[\"Date\"])\n",
    "table.drop(table.index[0], inplace=True)\n",
    "table.head()"
   ]
  },
  {
   "cell_type": "code",
   "execution_count": 47,
   "metadata": {},
   "outputs": [
    {
     "data": {
      "text/plain": [
       "Text(0.5, 0, 'Year')"
      ]
     },
     "execution_count": 47,
     "metadata": {},
     "output_type": "execute_result"
    },
    {
     "data": {
      "image/png": "[encoded data removed]",
      "text/plain": [
       "<Figure size 432x288 with 1 Axes>"
      ]
     },
     "metadata": {
      "needs_background": "light"
     },
     "output_type": "display_data"
    }
   ],
   "source": [
    "# table[2:].plot(x='Date', y='*1000 $/Mbyte', figsize=(10,6), grid=True)\n",
    "plt.semilogy(table['Date'], table['$/Mbyte (Y)'])\n",
    "plt.title('Price development of computer memory')\n",
    "plt.ylabel('$ / Mbyte')\n",
    "plt.xlabel('Year')"
   ]
  }
 ],
 "metadata": {
  "kernelspec": {
   "display_name": "Python 3",
   "language": "python",
   "name": "python3"
  },
  "language_info": {
   "codemirror_mode": {
    "name": "ipython",
    "version": 3
   },
   "file_extension": ".py",
   "mimetype": "text/x-python",
   "name": "python",
   "nbconvert_exporter": "python",
   "pygments_lexer": "ipython3",
   "version": "3.7.1"
  }
 },
 "nbformat": 4,
 "nbformat_minor": 2
}
